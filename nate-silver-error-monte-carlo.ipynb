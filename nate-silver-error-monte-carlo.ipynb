{
 "cells": [
  {
   "cell_type": "code",
   "execution_count": 1,
   "metadata": {},
   "outputs": [],
   "source": [
    "%matplotlib inline\n",
    "\n",
    "import warnings\n",
    "warnings.filterwarnings(\"ignore\")\n",
    "\n",
    "import numpy as np\n",
    "import pandas as pd\n",
    "import datetime as dt\n",
    "import matplotlib.pyplot as plt\n",
    "import os\n",
    "import gc"
   ]
  },
  {
   "cell_type": "code",
   "execution_count": 2,
   "metadata": {},
   "outputs": [],
   "source": [
    "polls_2020 = 'C:\\\\Users\\\\cmfre\\\\Downloads\\\\polls\\\\polls\\\\presidential_poll_averages_2020.csv'\n",
    "past_polls = 'C:\\\\Users\\\\cmfre\\\\Downloads\\\\polls\\\\polls\\\\pres_pollaverages_1968-2016.csv'\n",
    "\n",
    "data_2020 = pd.read_csv(polls_2020)\n",
    "data_2016 = pd.read_csv(past_polls)"
   ]
  },
  {
   "cell_type": "code",
   "execution_count": 3,
   "metadata": {},
   "outputs": [],
   "source": [
    "data_2016 = data_2016.loc[data_2016.cycle==2016,data_2020.columns]"
   ]
  },
  {
   "cell_type": "code",
   "execution_count": 4,
   "metadata": {},
   "outputs": [],
   "source": [
    "data_2020['s_date'] = pd.to_datetime(data_2020.modeldate)\n",
    "data_2016['s_date'] = pd.to_datetime(data_2016.modeldate)"
   ]
  },
  {
   "cell_type": "code",
   "execution_count": 5,
   "metadata": {},
   "outputs": [],
   "source": [
    "##wtf is up with 3 NE districts versus 2?"
   ]
  },
  {
   "cell_type": "code",
   "execution_count": 6,
   "metadata": {},
   "outputs": [],
   "source": [
    "results_2016 = pd.read_excel('C:\\\\Users\\\\cmfre\\\\Downloads\\\\federalelections2016.xlsx',sheet_name='2016 Pres General Results')"
   ]
  },
  {
   "cell_type": "code",
   "execution_count": 7,
   "metadata": {},
   "outputs": [],
   "source": [
    "results_2016 = results_2016.loc[results_2016['WINNER INDICATOR']=='W',:]"
   ]
  },
  {
   "cell_type": "code",
   "execution_count": 8,
   "metadata": {},
   "outputs": [],
   "source": [
    "data_2016['new_state'] = data_2016.state.replace('ME-1','Maine').replace('ME-2','Maine').replace('NE-1','Nebraska').replace('NE-2','Nebraska').replace('NE-3','Nebraska')\n",
    "data_2020['new_state'] = data_2020.state.replace('ME-1','Maine').replace('ME-2','Maine').replace('NE-1','Nebraska').replace('NE-2','Nebraska').replace('NE-3','Nebraska')"
   ]
  },
  {
   "cell_type": "code",
   "execution_count": 9,
   "metadata": {},
   "outputs": [],
   "source": [
    "data_2016 = data_2016.loc[(data_2016.state!='NE-1') & (data_2016.state!='NE-2') & (data_2016.state!='NE-3') & (data_2016.state!='ME-1') & (data_2016.state!='ME-2'),:]\n",
    "data_2020 = data_2020.loc[(data_2020.state!='NE-1') & (data_2020.state!='NE-2') & (data_2020.state!='NE-3') & (data_2020.state!='ME-1') & (data_2020.state!='ME-2'),:]"
   ]
  },
  {
   "cell_type": "code",
   "execution_count": 10,
   "metadata": {},
   "outputs": [],
   "source": [
    "polls_avg_2016 = pd.DataFrame(data_2016.loc[(data_2016.s_date>='2016-11-01') & (data_2016.s_date<='2016-11-07'),:].groupby(['candidate_name','new_state']).pct_trend_adjusted.mean()).reset_index()\n",
    "polls_avg_2016['PARTY'] = polls_avg_2016.candidate_name.replace('Donald Trump','REP').replace('Hillary Rodham Clinton','DEM')\n",
    "polls_avg_2016['STATE'] = polls_avg_2016.new_state\n",
    "polls_avg_2016 = polls_avg_2016.pivot(index='STATE',columns='PARTY',values='pct_trend_adjusted').drop(columns=['Gary Johnson'])\n",
    "polls_avg_2016 = polls_avg_2016.reset_index()"
   ]
  },
  {
   "cell_type": "code",
   "execution_count": 11,
   "metadata": {},
   "outputs": [],
   "source": [
    "train_data = results_2016.merge(polls_avg_2016,on=['STATE'])"
   ]
  },
  {
   "cell_type": "code",
   "execution_count": 12,
   "metadata": {},
   "outputs": [],
   "source": [
    "def rep_error_amt(winning_party,winning_amount,rep_pred,dem_pred):\n",
    "    if winning_party=='REP':\n",
    "        e_amt = winning_amount-(rep_pred/100)\n",
    "    else:\n",
    "        e_amt = winning_amount-(dem_pred/100)\n",
    "        e_amt = -e_amt\n",
    "    return(e_amt)\n",
    "\n",
    "train_data['rep_error'] = train_data.apply(lambda row: rep_error_amt(row['PARTY'],row['GENERAL %'],row['REP'],row['DEM']) ,axis=1)"
   ]
  },
  {
   "cell_type": "code",
   "execution_count": 13,
   "metadata": {},
   "outputs": [],
   "source": [
    "polls_avg_2020 = pd.DataFrame(data_2020.loc[(data_2020.s_date>='2020-10-27') & (data_2020.s_date<='2020-11-02'),:].groupby(['candidate_name','new_state']).pct_trend_adjusted.mean()).reset_index()\n",
    "polls_avg_2020 = polls_avg_2020.loc[(polls_avg_2020.candidate_name=='Donald Trump') | (polls_avg_2020.candidate_name=='Joseph R. Biden Jr.'),:]\n",
    "polls_avg_2020['PARTY'] = polls_avg_2020.candidate_name.replace('Donald Trump','REP').replace('Joseph R. Biden Jr.','DEM')"
   ]
  },
  {
   "cell_type": "code",
   "execution_count": 14,
   "metadata": {},
   "outputs": [],
   "source": [
    "polls_avg_2020['STATE'] = polls_avg_2020.new_state\n",
    "polls_avg_2020 = polls_avg_2020.pivot(index='STATE',columns='PARTY',values='pct_trend_adjusted')\n",
    "polls_avg_2020 = polls_avg_2020.reset_index()"
   ]
  },
  {
   "cell_type": "code",
   "execution_count": 15,
   "metadata": {},
   "outputs": [
    {
     "name": "stdout",
     "output_type": "stream",
     "text": [
      "done with 250 of 10000 simulations where error level is consitent nationally.\n",
      "done with 500 of 10000 simulations where error level is consitent nationally.\n",
      "done with 750 of 10000 simulations where error level is consitent nationally.\n",
      "done with 1000 of 10000 simulations where error level is consitent nationally.\n",
      "done with 1250 of 10000 simulations where error level is consitent nationally.\n",
      "done with 1500 of 10000 simulations where error level is consitent nationally.\n",
      "done with 1750 of 10000 simulations where error level is consitent nationally.\n",
      "done with 2000 of 10000 simulations where error level is consitent nationally.\n",
      "done with 2250 of 10000 simulations where error level is consitent nationally.\n",
      "done with 2500 of 10000 simulations where error level is consitent nationally.\n",
      "done with 2750 of 10000 simulations where error level is consitent nationally.\n",
      "done with 3000 of 10000 simulations where error level is consitent nationally.\n",
      "done with 3250 of 10000 simulations where error level is consitent nationally.\n",
      "done with 3500 of 10000 simulations where error level is consitent nationally.\n",
      "done with 3750 of 10000 simulations where error level is consitent nationally.\n",
      "done with 4000 of 10000 simulations where error level is consitent nationally.\n",
      "done with 4250 of 10000 simulations where error level is consitent nationally.\n",
      "done with 4500 of 10000 simulations where error level is consitent nationally.\n",
      "done with 4750 of 10000 simulations where error level is consitent nationally.\n",
      "done with 5000 of 10000 simulations where error level is consitent nationally.\n",
      "done with 5250 of 10000 simulations where error level is inconsitent nationally.\n",
      "done with 5500 of 10000 simulations where error level is inconsitent nationally.\n",
      "done with 5750 of 10000 simulations where error level is inconsitent nationally.\n",
      "done with 6000 of 10000 simulations where error level is inconsitent nationally.\n",
      "done with 6250 of 10000 simulations where error level is inconsitent nationally.\n",
      "done with 6500 of 10000 simulations where error level is inconsitent nationally.\n",
      "done with 6750 of 10000 simulations where error level is inconsitent nationally.\n",
      "done with 7000 of 10000 simulations where error level is inconsitent nationally.\n",
      "done with 7250 of 10000 simulations where error level is inconsitent nationally.\n",
      "done with 7500 of 10000 simulations where error level is inconsitent nationally.\n",
      "done with 7750 of 10000 simulations where error level is inconsitent nationally.\n",
      "done with 8000 of 10000 simulations where error level is inconsitent nationally.\n",
      "done with 8250 of 10000 simulations where error level is inconsitent nationally.\n",
      "done with 8500 of 10000 simulations where error level is inconsitent nationally.\n",
      "done with 8750 of 10000 simulations where error level is inconsitent nationally.\n",
      "done with 9000 of 10000 simulations where error level is inconsitent nationally.\n",
      "done with 9250 of 10000 simulations where error level is inconsitent nationally.\n",
      "done with 9500 of 10000 simulations where error level is inconsitent nationally.\n",
      "done with 9750 of 10000 simulations where error level is inconsitent nationally.\n",
      "done with 10000 of 10000 simulations where error level is inconsitent nationally.\n"
     ]
    }
   ],
   "source": [
    "score = polls_avg_2020.merge(train_data[['STATE','rep_error']],on='STATE')\n",
    "\n",
    "results = pd.DataFrame(columns=['STATE','DEM','REP','sim_number'])\n",
    "n=5000\n",
    "\n",
    "for i in range(1,n+1,1):\n",
    "    df = score.copy()\n",
    "    rn = np.random.rand()\n",
    "    df['new_error'] = df.rep_error * rn\n",
    "    df['DEM'] = (df['DEM']/100) - df['new_error']\n",
    "    df['REP'] = (df['REP']/100) + df['new_error']\n",
    "    df['sim_number'] = i\n",
    "    results = results.append(df[['STATE','DEM','REP','sim_number']])\n",
    "    del(df)\n",
    "    if np.mod(i,250)==0:\n",
    "        print('done with',i,'of',n*2,'simulations where error level is consitent nationally.')\n",
    "    gc.collect()\n",
    "for i in range(n+1,n*2+1,1):\n",
    "    df = score.copy()\n",
    "    df['new_error'] = df.rep_error.apply(lambda x: x*np.random.rand())\n",
    "    df['DEM'] = (df['DEM']/100) - df['new_error']\n",
    "    df['REP'] = (df['REP']/100) + df['new_error']\n",
    "    df['sim_number'] = i\n",
    "    results = results.append(df[['STATE','DEM','REP','sim_number']])\n",
    "    del(df)\n",
    "    if np.mod(i,250)==0:\n",
    "        print('done with',i,'of',n*2,'simulations where error level is inconsitent nationally.')\n",
    "    gc.collect()"
   ]
  },
  {
   "cell_type": "code",
   "execution_count": 16,
   "metadata": {},
   "outputs": [],
   "source": [
    "ec_data = pd.read_csv('C:\\\\Users\\\\cmfre\\\\Downloads\\\\electoral votes by state.csv')"
   ]
  },
  {
   "cell_type": "code",
   "execution_count": 17,
   "metadata": {},
   "outputs": [],
   "source": [
    "results = results.merge(ec_data,right_on='State',left_on='STATE')\n",
    "results['winner'] = results.apply(lambda row: 'Trump' if row['REP']>row['DEM'] else 'Biden', axis=1)"
   ]
  },
  {
   "cell_type": "code",
   "execution_count": 18,
   "metadata": {},
   "outputs": [],
   "source": [
    "final = results.groupby(['sim_number','winner'])['electoral votes'].sum().reset_index()"
   ]
  },
  {
   "cell_type": "code",
   "execution_count": 19,
   "metadata": {},
   "outputs": [
    {
     "data": {
      "text/plain": [
       "array([<matplotlib.axes._subplots.AxesSubplot object at 0x0000015BE27E2388>,\n",
       "       <matplotlib.axes._subplots.AxesSubplot object at 0x0000015BE27D5488>],\n",
       "      dtype=object)"
      ]
     },
     "execution_count": 19,
     "metadata": {},
     "output_type": "execute_result"
    },
    {
     "data": {
      "image/png": "[encoded data removed]",
      "text/plain": [
       "<Figure size 432x288 with 2 Axes>"
      ]
     },
     "metadata": {
      "needs_background": "light"
     },
     "output_type": "display_data"
    }
   ],
   "source": [
    "final[['electoral votes','winner']].hist(by='winner')"
   ]
  },
  {
   "cell_type": "code",
   "execution_count": 20,
   "metadata": {},
   "outputs": [
    {
     "data": {
      "text/plain": [
       "<matplotlib.lines.Line2D at 0x15be26dde88>"
      ]
     },
     "execution_count": 20,
     "metadata": {},
     "output_type": "execute_result"
    },
    {
     "data": {
      "image/png": "[encoded data removed]",
      "text/plain": [
       "<Figure size 864x576 with 1 Axes>"
      ]
     },
     "metadata": {
      "needs_background": "light"
     },
     "output_type": "display_data"
    }
   ],
   "source": [
    "plt.rcParams['figure.figsize'] = [12, 8]\n",
    "\n",
    "biden = final.loc[final.winner=='Biden','electoral votes']\n",
    "trump = final.loc[final.winner=='Trump','electoral votes']\n",
    "biden.hist(bins=20,color='blue',alpha=0.25)\n",
    "trump.hist(bins=20,color='red',alpha=0.25)\n",
    "plt.axvline(biden.mean(),color='blue')\n",
    "plt.axvline(trump.mean(),color='red')"
   ]
  },
  {
   "cell_type": "code",
   "execution_count": 21,
   "metadata": {},
   "outputs": [
    {
     "name": "stdout",
     "output_type": "stream",
     "text": [
      "(10000, 2)\n"
     ]
    }
   ],
   "source": [
    "summ = final.pivot(index='sim_number',columns='winner',values='electoral votes')\n",
    "print(summ.shape)"
   ]
  },
  {
   "cell_type": "code",
   "execution_count": 24,
   "metadata": {},
   "outputs": [
    {
     "name": "stdout",
     "output_type": "stream",
     "text": [
      "trump wins in 4298 out of 10000 simulations ( 43.0 % of the time) with nate silver's current data and the inaccurate polling from 2016 repeating itself, not repeating, or something in between\n",
      "biden wins in 5702 out of 10000 simulations ( 56.99999999999999 % of the time) with nate silver's current data and the inaccurate polling from 2016 repeating itself, not repeating, or something in between\n"
     ]
    }
   ],
   "source": [
    "summ['winner'] = summ.apply(lambda row: 'Trump' if row['Trump']>row['Biden'] else 'Biden',axis=1)\n",
    "trump_wins = len(summ.loc[summ.winner=='Trump',:])\n",
    "biden_wins = len(summ.loc[summ.winner=='Biden',:])\n",
    "\n",
    "print('trump wins in',trump_wins,'out of 10000 simulations (',round(trump_wins/float(10000),3)*100,'% of the time) with nate silver\\'s current data and the inaccurate polling from 2016 repeating itself, not repeating, or something in between')\n",
    "print('biden wins in',biden_wins,'out of 10000 simulations (',round(biden_wins/float(10000),3)*100,'% of the time) with nate silver\\'s current data and the inaccurate polling from 2016 repeating itself, not repeating, or something in between')"
   ]
  },
  {
   "cell_type": "code",
   "execution_count": 23,
   "metadata": {},
   "outputs": [
    {
     "name": "stdout",
     "output_type": "stream",
     "text": [
      "based on the mean outcome, the states that trump wins are:\n",
      "       Alabama (trump: 0.6%)\n",
      "       Alaska (trump: 0.54%)\n",
      "       Arizona (trump: 0.48%)\n",
      "       Arkansas (trump: 0.63%)\n",
      "       Florida (trump: 0.49%)\n",
      "       Georgia (trump: 0.48%)\n",
      "       Idaho (trump: 0.64%)\n",
      "       Indiana (trump: 0.5499999999999999%)\n",
      "       Iowa (trump: 0.5%)\n",
      "       Kansas (trump: 0.5499999999999999%)\n",
      "       Kentucky (trump: 0.6%)\n",
      "       Louisiana (trump: 0.61%)\n",
      "       Mississippi (trump: 0.59%)\n",
      "       Missouri (trump: 0.54%)\n",
      "       Montana (trump: 0.53%)\n",
      "       Nebraska (trump: 0.5499999999999999%)\n",
      "       North Carolina (trump: 0.49%)\n",
      "       North Dakota (trump: 0.61%)\n",
      "       Ohio (trump: 0.51%)\n",
      "       Oklahoma (trump: 0.63%)\n",
      "       Pennsylvania (trump: 0.48%)\n",
      "       South Carolina (trump: 0.5499999999999999%)\n",
      "       South Dakota (trump: 0.59%)\n",
      "       Tennessee (trump: 0.6%)\n",
      "       Texas (trump: 0.5%)\n",
      "       Utah (trump: 0.5599999999999999%)\n",
      "       West Virginia (trump: 0.66%)\n",
      "       Wyoming (trump: 0.6799999999999999%)\n",
      "based on the mean outcome, the states that biden wins are:\n",
      "       California (biden: 0.65%)\n",
      "       Colorado (biden: 0.5599999999999999%)\n",
      "       Connecticut (biden: 0.6%)\n",
      "       Delaware (biden: 0.6%)\n",
      "       District of Columbia (biden: 0.91%)\n",
      "       Hawaii (biden: 0.6799999999999999%)\n",
      "       Illinois (biden: 0.5700000000000001%)\n",
      "       Maine (biden: 0.5499999999999999%)\n",
      "       Maryland (biden: 0.61%)\n",
      "       Massachusetts (biden: 0.6799999999999999%)\n",
      "       Michigan (biden: 0.48%)\n",
      "       Minnesota (biden: 0.51%)\n",
      "       Nevada (biden: 0.51%)\n",
      "       New Hampshire (biden: 0.5499999999999999%)\n",
      "       New Jersey (biden: 0.6%)\n",
      "       New Mexico (biden: 0.5599999999999999%)\n",
      "       New York (biden: 0.65%)\n",
      "       Oregon (biden: 0.59%)\n",
      "       Rhode Island (biden: 0.67%)\n",
      "       Vermont (biden: 0.67%)\n",
      "       Virginia (biden: 0.54%)\n",
      "       Washington (biden: 0.6%)\n",
      "       Wisconsin (biden: 0.49%)\n"
     ]
    }
   ],
   "source": [
    "print('based on the mean outcome, the states that trump wins are:')\n",
    "for s in results.STATE.unique():\n",
    "    t = np.mean(results.loc[(results.STATE==s),'REP'])\n",
    "    b = np.mean(results.loc[(results.STATE==s),'DEM'])\n",
    "    if t>b:\n",
    "        print('      ',s,'(trump:',str(round(float(t)/float(100),4)*int(100))+'%)')\n",
    "print('based on the mean outcome, the states that biden wins are:')\n",
    "for s in results.STATE.unique():\n",
    "    t = np.mean(results.loc[(results.STATE==s),'REP'])\n",
    "    b = np.mean(results.loc[(results.STATE==s),'DEM'])\n",
    "    if b>t:\n",
    "        print('      ',s,'(biden:',str(round(float(b)/float(100),4)*int(100))+'%)')"
   ]
  }
 ],
 "metadata": {
  "kernelspec": {
   "display_name": "Python 3",
   "language": "python",
   "name": "python3"
  },
  "language_info": {
   "codemirror_mode": {
    "name": "ipython",
    "version": 3
   },
   "file_extension": ".py",
   "mimetype": "text/x-python",
   "name": "python",
   "nbconvert_exporter": "python",
   "pygments_lexer": "ipython3",
   "version": "3.7.6"
  }
 },
 "nbformat": 4,
 "nbformat_minor": 4
}
